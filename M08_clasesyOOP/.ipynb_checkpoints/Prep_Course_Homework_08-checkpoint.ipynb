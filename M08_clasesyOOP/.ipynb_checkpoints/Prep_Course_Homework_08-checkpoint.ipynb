{
 "cells": [
  {
   "cell_type": "markdown",
   "metadata": {},
   "source": [
    "## Clases y Programación Orientada a Objetos"
   ]
  },
  {
   "cell_type": "markdown",
   "metadata": {},
   "source": [
    "1) Crear la clase vehículo que contenga los atributos:<br>\n",
    "Color<br>\n",
    "Si es moto, auto, camioneta ó camión<br>\n",
    "Cilindrada del motor"
   ]
  },
  {
   "cell_type": "code",
   "execution_count": 29,
   "metadata": {},
   "outputs": [
    {
     "name": "stdout",
     "output_type": "stream",
     "text": [
      "soy unamoto\n",
      "mi cilindraje es 100000000\n",
      "mi color es rojo\n"
     ]
    }
   ],
   "source": [
    "class Vehiculo:\n",
    "    # constructor\n",
    "    def __init__(self,que_soy,cilindraje,color):\n",
    "        self.que_soy = que_soy\n",
    "        self.cilindraje = cilindraje\n",
    "        self.color = color\n",
    "        \n",
    "    def quesoy(self):\n",
    "        print(f'soy una{self.que_soy}')\n",
    "        \n",
    "    def mi_cilindraje(self,te):\n",
    "        print(f'mi cilindraje es {te}')\n",
    "    def mi_color(self):\n",
    "        print(f'mi color es {self.color}')\n",
    "\n",
    "x = Vehiculo('moto',12345,'rojo')\n",
    "type(x)\n",
    "\n",
    "x.quesoy()\n",
    "x.mi_cilindraje(100000000)\n",
    "x.mi_color()"
   ]
  },
  {
   "cell_type": "markdown",
   "metadata": {},
   "source": [
    "2) A la clase Vehiculo creada en el punto 1, agregar los siguientes métodos:<br>\n",
    "Acelerar<br>\n",
    "Frenar<br>\n",
    "Doblar<br>"
   ]
  },
  {
   "cell_type": "code",
   "execution_count": 45,
   "metadata": {},
   "outputs": [
    {
     "name": "stdout",
     "output_type": "stream",
     "text": [
      "el moto arranco\n",
      "voy a volter a las izq\n",
      "no se pa donde voltear\n",
      "estoy frenando\n",
      "el moto se detuvo\n"
     ]
    }
   ],
   "source": [
    "class Vehiculo:\n",
    "    # constructor\n",
    "    def __init__(self,que_soy,cilindraje,color):\n",
    "        self.que_soy = que_soy\n",
    "        self.cilindraje = cilindraje\n",
    "        self.color = color\n",
    "        \n",
    "    def quesoy(self):\n",
    "        print(f'soy una{self.que_soy}')\n",
    "        \n",
    "    def mi_cilindraje(self,te):\n",
    "        print(f'mi cilindraje es {te}')\n",
    "    def mi_color(self):\n",
    "        print(f'mi color es {self.color}')\n",
    "        \n",
    "    def arrancar(self,b):\n",
    "        if b == True:\n",
    "            print(f'el {self.que_soy} arranco')\n",
    "        else:\n",
    "            print(f'el {self.que_soy} se detuvo')\n",
    "    \n",
    "    def frenar(self,b):\n",
    "            if b == True:\n",
    "                print(f'estoy frenando')\n",
    "            else:\n",
    "                print('no estoy frenando')\n",
    "                  \n",
    "    def voltear(self,b,direccion=None):\n",
    "            if b == True:\n",
    "                  if direccion == 'izq':\n",
    "                      print(f'voy a volter a las {direccion}')\n",
    "                    \n",
    "                  elif direccion == 'der':\n",
    "                      print(f'voy a voltear a la {direccion}')\n",
    "            else:\n",
    "                  print(f'no se pa donde voltear')\n",
    "    \n",
    "\n",
    "x = Vehiculo('moto',12345,'rojo')\n",
    "type(x)\n",
    "x.arrancar(True)\n",
    "x.voltear(True,'izq')\n",
    "x.voltear(False)\n",
    "x.frenar(True)\n",
    "x.arrancar(False)"
   ]
  },
  {
   "cell_type": "markdown",
   "metadata": {},
   "source": [
    "3) Instanciar 3 objetos de la clase vehículo y ejecutar sus métodos, probar luego el resultado"
   ]
  },
  {
   "cell_type": "code",
   "execution_count": 49,
   "metadata": {},
   "outputs": [
    {
     "name": "stdout",
     "output_type": "stream",
     "text": [
      "el moto arranco\n",
      "voy a volter a las izq\n",
      "no se pa donde voltear\n",
      "estoy frenando\n",
      "el moto se detuvo\n",
      "----------------------JADER-----------------------\n",
      "el auto arranco\n",
      "voy a voltear a la der\n",
      "mi color es azul\n",
      "no se pa donde voltear\n",
      "estoy frenando\n",
      "el auto se detuvo\n"
     ]
    }
   ],
   "source": [
    "class Vehiculo:\n",
    "    # constructor\n",
    "    def __init__(self,que_soy,cilindraje,color):\n",
    "        self.que_soy = que_soy\n",
    "        self.cilindraje = cilindraje\n",
    "        self.color = color\n",
    "        \n",
    "    def quesoy(self):\n",
    "        print(f'soy una{self.que_soy}')\n",
    "        \n",
    "    def mi_cilindraje(self,te):\n",
    "        print(f'mi cilindraje es {te}')\n",
    "    def mi_color(self):\n",
    "        print(f'mi color es {self.color}')\n",
    "        \n",
    "    def arrancar(self,b):\n",
    "        if b == True:\n",
    "            print(f'el {self.que_soy} arranco')\n",
    "        else:\n",
    "            print(f'el {self.que_soy} se detuvo')\n",
    "    \n",
    "    def frenar(self,b):\n",
    "            if b == True:\n",
    "                print(f'estoy frenando')\n",
    "            else:\n",
    "                print('no estoy frenando')\n",
    "                  \n",
    "    def voltear(self,b,direccion=None):\n",
    "            if b == True:\n",
    "                  if direccion == 'izq':\n",
    "                      print(f'voy a volter a las {direccion}')\n",
    "                    \n",
    "                  elif direccion == 'der':\n",
    "                      print(f'voy a voltear a la {direccion}')\n",
    "            else:\n",
    "                  print(f'no se pa donde voltear')\n",
    "    \n",
    "\n",
    "x = Vehiculo('moto',12345,'rojo')\n",
    "type(x)\n",
    "x.arrancar(True)\n",
    "x.voltear(True,'izq')\n",
    "x.voltear(False)\n",
    "x.frenar(True)\n",
    "x.arrancar(False)\n",
    "print('JADER'.center(50,'-'))\n",
    "m = Vehiculo('auto',12345,'azul')\n",
    "type(m)\n",
    "m.arrancar(True)\n",
    "m.voltear(True,'der')\n",
    "m.mi_color()\n",
    "m.voltear(False)\n",
    "m.frenar(True)\n",
    "m.arrancar(False) "
   ]
  },
  {
   "cell_type": "markdown",
   "metadata": {},
   "source": [
    "4) Agregar a la clase Vehiculo, un método que muestre su estado, es decir, a que velocidad se encuentra y su dirección. Y otro método que muestre color, tipo y cilindrada"
   ]
  },
  {
   "cell_type": "code",
   "execution_count": null,
   "metadata": {},
   "outputs": [],
   "source": []
  },
  {
   "cell_type": "markdown",
   "metadata": {},
   "source": [
    "5) Crear una clase que permita utilizar las funciones creadas en la práctica del módulo 7<br>\n",
    "Verificar Primo<br>\n",
    "Valor modal<br>\n",
    "Conversión grados<br>\n",
    "Factorial<br>"
   ]
  },
  {
   "cell_type": "code",
   "execution_count": 168,
   "metadata": {},
   "outputs": [],
   "source": [
    "class Herramientas:\n",
    "    \n",
    "    def lista_primo(self,lista):\n",
    "        self.lista = lista\n",
    "        \n",
    "        lista_primos = []\n",
    "        for i in self.lista:\n",
    "            if verificar_primo(i):\n",
    "                lista_primos.append(i)\n",
    "        return lista_primos\n",
    "    \n",
    "    def verificar_primo(self,numero):\n",
    "        self.numero = numero\n",
    "        \n",
    "        es_primo=False\n",
    "        \n",
    "        if self.numero < 2:\n",
    "            return False\n",
    "        \n",
    "        for i in range(2,self.numero):\n",
    "            if self.numero%i == 0:\n",
    "                return False\n",
    "        \n",
    "        else:\n",
    "            return True\n",
    "        \n",
    "    def factorial(self,numero):\n",
    "        \n",
    "        self.numero = numero\n",
    "        \n",
    "        lista_fac = []\n",
    "        factorial = 1\n",
    "\n",
    "        if type(self.numero) == int:\n",
    "            for i in range(1, self.numero+1):\n",
    "                factorial *= i\n",
    "                lista_fac.append(factorial)\n",
    "            return factorial\n",
    "\n",
    "        elif type(self.numero) == list:\n",
    "            for i in self.numero:\n",
    "                temp_factorial = 1\n",
    "                for j in range(1, i+1):\n",
    "                    temp_factorial *= j\n",
    "                lista_fac.append(temp_factorial)\n",
    "\n",
    "            return lista_fac\n",
    "\n",
    "\n",
    "    def moda(self,lista):\n",
    "        self.lista = lista\n",
    "        dic_moda ={}\n",
    "    \n",
    "        for i in self.lista:\n",
    "            if i in dic_moda:\n",
    "                dic_moda[i] += 1\n",
    "            else:\n",
    "                dic_moda[i] = 1\n",
    "\n",
    "        valor_moda = max(dic_moda,key=lambda x : dic_moda[x])\n",
    "\n",
    "        return(print(f'el valor que mas se repite es {valor_moda} unas {dic_moda[valor_moda]}'))\n"
   ]
  },
  {
   "cell_type": "code",
   "execution_count": null,
   "metadata": {},
   "outputs": [],
   "source": [
    "\n"
   ]
  },
  {
   "cell_type": "code",
   "execution_count": null,
   "metadata": {},
   "outputs": [],
   "source": [
    "\n"
   ]
  },
  {
   "cell_type": "code",
   "execution_count": null,
   "metadata": {},
   "outputs": [],
   "source": []
  },
  {
   "cell_type": "markdown",
   "metadata": {},
   "source": [
    "6) Probar las funciones incorporadas en la clase del punto 5"
   ]
  },
  {
   "cell_type": "code",
   "execution_count": 169,
   "metadata": {},
   "outputs": [
    {
     "name": "stdout",
     "output_type": "stream",
     "text": [
      "__class__\n",
      "__delattr__\n",
      "__dict__\n",
      "__dir__\n",
      "__doc__\n",
      "__eq__\n",
      "__format__\n",
      "__ge__\n",
      "__getattribute__\n",
      "__gt__\n",
      "__hash__\n",
      "__init__\n",
      "__init_subclass__\n",
      "__le__\n",
      "__lt__\n",
      "__module__\n",
      "__ne__\n",
      "__new__\n",
      "__reduce__\n",
      "__reduce_ex__\n",
      "__repr__\n",
      "__setattr__\n",
      "__sizeof__\n",
      "__str__\n",
      "__subclasshook__\n",
      "__weakref__\n",
      "factorial\n",
      "lista_primo\n",
      "moda\n",
      "verificar_primo\n"
     ]
    }
   ],
   "source": [
    "h = Herramientas()  \n",
    "lista_metodos = dir(h)\n",
    "\n",
    "for i in lista_metodos:\n",
    "    print(i)"
   ]
  },
  {
   "cell_type": "code",
   "execution_count": 170,
   "metadata": {},
   "outputs": [
    {
     "name": "stdout",
     "output_type": "stream",
     "text": [
      "120\n",
      "[1, 2, 6, 479001600, 479001600, 6, 2, 87178291200, 362880]\n",
      "[2, 3, 5323, 5, 23, 23, 3, 7]\n",
      "el valor que mas se repite es 2 unas 11\n"
     ]
    }
   ],
   "source": [
    "print(h.factorial(5))\n",
    "print(h.factorial([1,2,3,12,12,3,2,14,9]))\n",
    "print(h.lista_primo([2,3,1,42,12,5323,5,6,23,4,23,12,-1,3,7,0]))\n",
    "(h.moda([1,2,1,231,2,12,1,2,12,1,2,1,2,12,1,2,2,2,2,2,21,1,521,31,2,3212,3124]))\n"
   ]
  },
  {
   "cell_type": "markdown",
   "metadata": {},
   "source": [
    "7) Es necesario que la clase creada en el punto 5 contenga una lista, sobre la cual se apliquen las funciones incorporadas"
   ]
  },
  {
   "cell_type": "code",
   "execution_count": null,
   "metadata": {},
   "outputs": [],
   "source": []
  },
  {
   "cell_type": "markdown",
   "metadata": {},
   "source": [
    "8) Crear un archivo .py aparte y ubicar allí la clase generada en el punto anterior. Luego realizar la importación del módulo y probar alguna de sus funciones"
   ]
  },
  {
   "cell_type": "code",
   "execution_count": 178,
   "metadata": {},
   "outputs": [],
   "source": [
    "from objeto import Herramientas"
   ]
  },
  {
   "cell_type": "code",
   "execution_count": 180,
   "metadata": {},
   "outputs": [
    {
     "name": "stdout",
     "output_type": "stream",
     "text": [
      "el valor que mas se repite es 1 unas 6\n"
     ]
    }
   ],
   "source": [
    "h = Herramientas()\n",
    "h.moda([121212,1212121,12,1,2,1,2,1,21,21,21,2,2,2,1,1,2,1,11])"
   ]
  },
  {
   "cell_type": "markdown",
   "metadata": {},
   "source": [
    "## atraccion\n",
    "separar los daos de un obejto para crear un molde\n",
    "\n",
    "## encapsulamiento\n",
    "cuando ciertos datos sean inviolables o inlaterables se refiere a los detalles internos de una clase\n",
    "*si no encapsulo el atributo clave y usuario del usuario del banco, alguien podria ingresar y manipular esta informacion\n",
    "\n",
    "## Herencia\n",
    "permite creaer nuevas clases a partir de otras esto es una jerarquia padre eh hijo\n",
    "\n",
    "## polimorfismo\n",
    "crear un mismo objeto pero con otros atributos"
   ]
  },
  {
   "cell_type": "code",
   "execution_count": 1,
   "metadata": {},
   "outputs": [],
   "source": [
    "class Cuenta_bancaria:\n",
    "    def __init__(self,saldo):\n",
    "        self.__saldo = saldo # asi se encapsula\n",
    "        \n",
    "    def deposita(self,monto):\n",
    "        self.__saldo += monto\n",
    "        \n",
    "    def retirar(self,monto):\n",
    "        if self.__saldo > monto:\n",
    "            self.__saldo -= monto\n",
    "            \n",
    "        else:\n",
    "            print('saldo insuficiente')\n",
    "    \n",
    "    def saldo(self):\n",
    "        return(self.__saldo)\n",
    "        "
   ]
  },
  {
   "cell_type": "code",
   "execution_count": 3,
   "metadata": {},
   "outputs": [],
   "source": [
    "class Gato:\n",
    "    \n",
    "    def __init__(self,nombre,edad,raza,sexo):\n",
    "        self.nombre=nombre\n",
    "        self.edad = edad\n",
    "        self.raza = raza\n",
    "        self.sexo = sexo\n",
    "        \n",
    "    # metodo presenar\n",
    "    def presentar(self):\n",
    "        return print(f'Hola soy {self.nombre} tengo {self.edad} años, mi raza es {self.raza}')"
   ]
  },
  {
   "cell_type": "code",
   "execution_count": 6,
   "metadata": {},
   "outputs": [
    {
     "name": "stdout",
     "output_type": "stream",
     "text": [
      "Hola soy perla tengo 23 años, mi raza es kaey\n"
     ]
    }
   ],
   "source": [
    "gato2 = Gato('perla',23,'kaey','M')\n",
    "gato2.presentar()"
   ]
  },
  {
   "cell_type": "code",
   "execution_count": 23,
   "metadata": {},
   "outputs": [],
   "source": [
    "class Animal:\n",
    "    \n",
    "    def __init__(self,especies,edad,color):\n",
    "        self.especie=especies\n",
    "        self.edad=edad\n",
    "        self.color=color\n",
    "        \n",
    "    def presentar(self):\n",
    "        return print(f'Hola soy {self.especie} tengo {self.edad} años, mi raza es {self.color}')\n",
    "    \n",
    "    def cumplir_años(self):\n",
    "        self.edad += 1"
   ]
  },
  {
   "cell_type": "code",
   "execution_count": 24,
   "metadata": {},
   "outputs": [],
   "source": [
    "a1 = Animal('raton',12,'gris')\n",
    "a2 = Animal('jader',23,'negro')          "
   ]
  },
  {
   "cell_type": "code",
   "execution_count": 26,
   "metadata": {},
   "outputs": [
    {
     "name": "stdout",
     "output_type": "stream",
     "text": [
      "Hola soy raton tengo 13 años, mi raza es gris\n",
      "Hola soy jader tengo 23 años, mi raza es negro\n"
     ]
    },
    {
     "data": {
      "text/plain": [
       "14"
      ]
     },
     "execution_count": 26,
     "metadata": {},
     "output_type": "execute_result"
    }
   ],
   "source": [
    "a1.presentar()\n",
    "a2.presentar()\n",
    "a1.edad\n",
    "\n",
    "a1.cumplir_años()\n",
    "a1.edad"
   ]
  },
  {
   "cell_type": "markdown",
   "metadata": {},
   "source": [
    "## HERENCIA\n",
    "cuando una clase hereda de otra puede sobre escribir metodos o redefinirlos\n",
    "\n",
    "la clase hija hereda los atributos o clases del padre nos puede ser util\n",
    "\n",
    "- metodos heredados\n",
    "- metodos heredados pero modificados\n",
    "- metodos nuevos propios del objeto\n",
    "\n",
    "la funcion super me permite acceder ametodos de la clase padre desde una de sus hijas"
   ]
  },
  {
   "cell_type": "code",
   "execution_count": null,
   "metadata": {},
   "outputs": [],
   "source": []
  },
  {
   "cell_type": "code",
   "execution_count": 30,
   "metadata": {},
   "outputs": [],
   "source": [
    "class Animal:\n",
    "    def __init__(self,especie,edad):\n",
    "        self.especie = especie\n",
    "        self.edad = edad\n",
    "        \n",
    "    def hablar(self):\n",
    "        ## \n",
    "        pass\n",
    "    \n",
    "    def moverse(self):\n",
    "        ## \n",
    "        \n",
    "        pass\n",
    "        \n",
    "    def describeme(self):\n",
    "        print('soy un animal de tipo ', type(self).__name__)"
   ]
  },
  {
   "cell_type": "code",
   "execution_count": 36,
   "metadata": {},
   "outputs": [
    {
     "name": "stdout",
     "output_type": "stream",
     "text": [
      "soy un animal de tipo  Perro\n"
     ]
    }
   ],
   "source": [
    "## perro\n",
    "class Perro(Animal):\n",
    "    pass\n",
    "\n",
    "p1 = Perro('mamifero',12)\n",
    "p1.describeme()"
   ]
  },
  {
   "cell_type": "code",
   "execution_count": 37,
   "metadata": {},
   "outputs": [],
   "source": [
    "class Perro(Animal):\n",
    "    \n",
    "    def hablar(self):\n",
    "        print('guau')\n",
    "    \n",
    "    def moverse(self):\n",
    "        print('caminando con cuatro patas')\n"
   ]
  },
  {
   "cell_type": "code",
   "execution_count": 40,
   "metadata": {},
   "outputs": [],
   "source": [
    "        \n",
    "class Abeja(Animal):\n",
    "    \n",
    "    def hablar(self):\n",
    "        print('beeeeeeeeeee')\n",
    "        \n",
    "    def moverse(self):\n",
    "        print('estoy volando')\n",
    "        \n",
    "    def picar(self):\n",
    "        print(f'estoy picando')"
   ]
  },
  {
   "cell_type": "code",
   "execution_count": 41,
   "metadata": {},
   "outputs": [],
   "source": [
    "p1 = Perro('mamifero',10)\n",
    "a1 = Abeja('insecto',2)"
   ]
  },
  {
   "cell_type": "code",
   "execution_count": 46,
   "metadata": {},
   "outputs": [
    {
     "name": "stdout",
     "output_type": "stream",
     "text": [
      "guau\n",
      "soy un animal de tipo  Perro\n",
      "-----------------------\n",
      "beeeeeeeeeee\n",
      "soy un animal de tipo  Abeja\n",
      "estoy volando\n",
      "estoy picando\n"
     ]
    }
   ],
   "source": [
    "p1.hablar()\n",
    "p1.describeme()\n",
    "print('-----------------------')\n",
    "a1.hablar()\n",
    "a1.describeme()\n",
    "a1.moverse()\n",
    "a1.picar()"
   ]
  },
  {
   "cell_type": "code",
   "execution_count": null,
   "metadata": {},
   "outputs": [],
   "source": [
    "class Animal:\n",
    "    def __init__(self,especie,edad):\n",
    "        self.especie = especie\n",
    "        self.edad = edad\n",
    "        \n",
    "    def hablar(self):\n",
    "        ## \n",
    "        pass\n",
    "    \n",
    "    def moverse(self):\n",
    "        ## \n",
    "        \n",
    "        pass\n",
    "        \n",
    "    def describeme(self):\n",
    "        print('soy un animal de tipo ', type(self).__name__)"
   ]
  },
  {
   "cell_type": "code",
   "execution_count": 47,
   "metadata": {},
   "outputs": [],
   "source": [
    "# de esta forma re escribo los metodos iniciales de las \n",
    "# clase animal para reconstruirlo \n",
    "class Perro(Animal):\n",
    "    def __init__(self,especie,edad,dueño):\n",
    "        self.especie = especie\n",
    "        self.edad = edad\n",
    "        self.dueño = dueño"
   ]
  },
  {
   "cell_type": "code",
   "execution_count": 58,
   "metadata": {},
   "outputs": [
    {
     "name": "stdout",
     "output_type": "stream",
     "text": [
      "canino\n",
      "5\n",
      "Jader\n"
     ]
    }
   ],
   "source": [
    "# otra forma \n",
    "class Perro(Animal):\n",
    "    def __init__(self,especie,edad,dueño):\n",
    "        super().__init__(especie,edad)\n",
    "        self.dueño = dueño\n",
    "        \n",
    "perro2 = Perro('canino',5,'Jader')\n",
    "print(perro2.especie)\n",
    "print(perro2.edad)\n",
    "print(perro2.dueño)\n",
    "        "
   ]
  },
  {
   "cell_type": "code",
   "execution_count": 54,
   "metadata": {},
   "outputs": [],
   "source": []
  },
  {
   "cell_type": "code",
   "execution_count": 60,
   "metadata": {},
   "outputs": [
    {
     "name": "stdout",
     "output_type": "stream",
     "text": [
      "5.0990195135927845\n"
     ]
    }
   ],
   "source": [
    "import math\n",
    "x = 26\n",
    "raiz = math.sqrt(x)\n",
    "print(raiz)"
   ]
  },
  {
   "cell_type": "code",
   "execution_count": 61,
   "metadata": {},
   "outputs": [
    {
     "data": {
      "text/plain": [
       "23"
      ]
     },
     "execution_count": 61,
     "metadata": {},
     "output_type": "execute_result"
    }
   ],
   "source": [
    "import jader \n",
    "\n",
    "jader.suma(10,13)"
   ]
  },
  {
   "cell_type": "code",
   "execution_count": 62,
   "metadata": {},
   "outputs": [
    {
     "data": {
      "text/plain": [
       "22"
      ]
     },
     "execution_count": 62,
     "metadata": {},
     "output_type": "execute_result"
    }
   ],
   "source": [
    "jader.resta(43,21)"
   ]
  },
  {
   "cell_type": "code",
   "execution_count": 63,
   "metadata": {},
   "outputs": [
    {
     "data": {
      "text/plain": [
       "23"
      ]
     },
     "execution_count": 63,
     "metadata": {},
     "output_type": "execute_result"
    }
   ],
   "source": [
    "from jader import suma as s\n",
    "s(12,11)"
   ]
  },
  {
   "cell_type": "code",
   "execution_count": null,
   "metadata": {},
   "outputs": [],
   "source": []
  }
 ],
 "metadata": {
  "interpreter": {
   "hash": "c85384e4cb51c8b72350f3a8712cc8351fdc3955e32a27f9b60c6242ab125f01"
  },
  "kernelspec": {
   "display_name": "Python 3 (ipykernel)",
   "language": "python",
   "name": "python3"
  },
  "language_info": {
   "codemirror_mode": {
    "name": "ipython",
    "version": 3
   },
   "file_extension": ".py",
   "mimetype": "text/x-python",
   "name": "python",
   "nbconvert_exporter": "python",
   "pygments_lexer": "ipython3",
   "version": "3.9.12"
  }
 },
 "nbformat": 4,
 "nbformat_minor": 4
}
