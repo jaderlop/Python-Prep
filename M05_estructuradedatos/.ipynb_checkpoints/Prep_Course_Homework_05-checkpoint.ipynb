{
 "cells": [
  {
   "cell_type": "markdown",
   "metadata": {},
   "source": [
    "## Estructuras de Datos"
   ]
  },
  {
   "cell_type": "markdown",
   "metadata": {},
   "source": [
    "1) Crear una lista que contenga nombres de ciudades del mundo que contenga más de 5 elementos e imprimir por pantalla"
   ]
  },
  {
   "cell_type": "code",
   "execution_count": 1,
   "metadata": {},
   "outputs": [
    {
     "name": "stdout",
     "output_type": "stream",
     "text": [
      "medellin\n",
      "bogota\n",
      "cali\n",
      "santa_marta\n",
      "leticia\n"
     ]
    }
   ],
   "source": [
    "ciudades = ['medellin','bogota', 'cali','santa_marta', 'leticia']\n",
    "for i in ciudades:\n",
    "    print(i)"
   ]
  },
  {
   "cell_type": "markdown",
   "metadata": {},
   "source": [
    "2) Imprimir por pantalla el segundo elemento de la lista"
   ]
  },
  {
   "cell_type": "code",
   "execution_count": 2,
   "metadata": {},
   "outputs": [
    {
     "data": {
      "text/plain": [
       "'bogota'"
      ]
     },
     "execution_count": 2,
     "metadata": {},
     "output_type": "execute_result"
    }
   ],
   "source": [
    "ciudades[1]"
   ]
  },
  {
   "cell_type": "markdown",
   "metadata": {},
   "source": [
    "3) Imprimir por pantalla del segundo al cuarto elemento"
   ]
  },
  {
   "cell_type": "code",
   "execution_count": 3,
   "metadata": {},
   "outputs": [
    {
     "data": {
      "text/plain": [
       "['bogota', 'cali', 'santa_marta']"
      ]
     },
     "execution_count": 3,
     "metadata": {},
     "output_type": "execute_result"
    }
   ],
   "source": [
    "ciudades[1:4]"
   ]
  },
  {
   "cell_type": "markdown",
   "metadata": {},
   "source": [
    "4) Visualizar el tipo de dato de la lista"
   ]
  },
  {
   "cell_type": "code",
   "execution_count": 5,
   "metadata": {},
   "outputs": [
    {
     "name": "stdout",
     "output_type": "stream",
     "text": [
      "<class 'list'>\n",
      "<class 'str'>\n",
      "<class 'str'>\n",
      "<class 'str'>\n",
      "<class 'str'>\n",
      "<class 'str'>\n"
     ]
    }
   ],
   "source": [
    "print(type(ciudades))\n",
    "for i in ciudades:\n",
    "    print(type(i))"
   ]
  },
  {
   "cell_type": "markdown",
   "metadata": {},
   "source": [
    "5) Visualizar todos los elementos de la lista a partir del tercero de manera genérica, es decir, sin explicitar la posición del último elemento"
   ]
  },
  {
   "cell_type": "code",
   "execution_count": 8,
   "metadata": {},
   "outputs": [
    {
     "data": {
      "text/plain": [
       "['cali', 'santa_marta', 'leticia']"
      ]
     },
     "execution_count": 8,
     "metadata": {},
     "output_type": "execute_result"
    }
   ],
   "source": [
    "ciudades[2:]"
   ]
  },
  {
   "cell_type": "markdown",
   "metadata": {},
   "source": [
    "6) Visualizar los primeros 4 elementos de la lista"
   ]
  },
  {
   "cell_type": "code",
   "execution_count": 9,
   "metadata": {},
   "outputs": [
    {
     "data": {
      "text/plain": [
       "['medellin', 'bogota', 'cali', 'santa_marta']"
      ]
     },
     "execution_count": 9,
     "metadata": {},
     "output_type": "execute_result"
    }
   ],
   "source": [
    "ciudades[0:4]"
   ]
  },
  {
   "cell_type": "markdown",
   "metadata": {},
   "source": [
    "7) Agregar una ciudad más a la lista que ya exista y otra que no ¿Arroja algún tipo de error?"
   ]
  },
  {
   "cell_type": "code",
   "execution_count": 24,
   "metadata": {},
   "outputs": [
    {
     "data": {
      "text/plain": [
       "['medellin',\n",
       " 'bogota',\n",
       " 'medellin',\n",
       " 'cali',\n",
       " 'santa_marta',\n",
       " 'leticia',\n",
       " 'medellin']"
      ]
     },
     "execution_count": 24,
     "metadata": {},
     "output_type": "execute_result"
    }
   ],
   "source": [
    "ciudades = ['medellin','bogota', 'cali','santa_marta', 'leticia']\n",
    "ciudades.append('medellin')\n",
    "ciudades\n",
    "# con el metodo append al ser el mismo no pone error y lo poneen la\n",
    "# posicion final en la ultima\n",
    "ciudades.insert(2,'medellin')\n",
    "ciudades"
   ]
  },
  {
   "cell_type": "markdown",
   "metadata": {},
   "source": [
    "8) Agregar otra ciudad, pero en la cuarta posición"
   ]
  },
  {
   "cell_type": "code",
   "execution_count": 28,
   "metadata": {},
   "outputs": [
    {
     "name": "stdout",
     "output_type": "stream",
     "text": [
      "medellin\n",
      "bogota\n",
      "medellin\n",
      "puerto berrio\n",
      "puerto berrio\n",
      "puerto berrio\n",
      "cali\n",
      "santa_marta\n",
      "leticia\n",
      "medellin\n"
     ]
    }
   ],
   "source": [
    "\n",
    "ciudades.insert(3,'puerto berrio')\n",
    "for i in ciudades:\n",
    "    print(i)"
   ]
  },
  {
   "cell_type": "markdown",
   "metadata": {},
   "source": [
    "9) Concatenar otra lista a la ya creada"
   ]
  },
  {
   "cell_type": "code",
   "execution_count": 30,
   "metadata": {},
   "outputs": [
    {
     "data": {
      "text/plain": [
       "['medellin', 'bogota', 'cali', 'santa_marta', 'leticia', 12, 3, 4, 5, 6]"
      ]
     },
     "execution_count": 30,
     "metadata": {},
     "output_type": "execute_result"
    }
   ],
   "source": [
    "ciudades = ['medellin','bogota', 'cali','santa_marta', 'leticia']\n",
    "numeros = [12,3,4,5,6]\n",
    "ciudades.extend(numeros)\n",
    "ciudades"
   ]
  },
  {
   "cell_type": "markdown",
   "metadata": {},
   "source": [
    "10) Encontrar el índice de la ciudad que en el punto 7 agregamos duplicada. ¿Se nota alguna particularidad?"
   ]
  },
  {
   "cell_type": "code",
   "execution_count": null,
   "metadata": {},
   "outputs": [],
   "source": []
  },
  {
   "cell_type": "markdown",
   "metadata": {},
   "source": [
    "11) ¿Qué pasa si se busca un elemento que no existe?"
   ]
  },
  {
   "cell_type": "code",
   "execution_count": null,
   "metadata": {},
   "outputs": [],
   "source": []
  },
  {
   "cell_type": "markdown",
   "metadata": {},
   "source": [
    "12) Eliminar un elemento de la lista"
   ]
  },
  {
   "cell_type": "code",
   "execution_count": 31,
   "metadata": {},
   "outputs": [
    {
     "data": {
      "text/plain": [
       "'leticia'"
      ]
     },
     "execution_count": 31,
     "metadata": {},
     "output_type": "execute_result"
    }
   ],
   "source": [
    "ciudades = ['medellin','bogota', 'cali','santa_marta', 'leticia']\n",
    "ciudades.pop()"
   ]
  },
  {
   "cell_type": "markdown",
   "metadata": {},
   "source": [
    "13) ¿Qué pasa si el elemento a eliminar no existe?"
   ]
  },
  {
   "cell_type": "code",
   "execution_count": 32,
   "metadata": {},
   "outputs": [
    {
     "ename": "ValueError",
     "evalue": "list.remove(x): x not in list",
     "output_type": "error",
     "traceback": [
      "\u001b[0;31m---------------------------------------------------------------------------\u001b[0m",
      "\u001b[0;31mValueError\u001b[0m                                Traceback (most recent call last)",
      "Input \u001b[0;32mIn [32]\u001b[0m, in \u001b[0;36m<cell line: 1>\u001b[0;34m()\u001b[0m\n\u001b[0;32m----> 1\u001b[0m \u001b[43mciudades\u001b[49m\u001b[38;5;241;43m.\u001b[39;49m\u001b[43mremove\u001b[49m\u001b[43m(\u001b[49m\u001b[38;5;124;43m'\u001b[39;49m\u001b[38;5;124;43mleticia\u001b[39;49m\u001b[38;5;124;43m'\u001b[39;49m\u001b[43m)\u001b[49m\n",
      "\u001b[0;31mValueError\u001b[0m: list.remove(x): x not in list"
     ]
    }
   ],
   "source": [
    "ciudades.remove('leticia')"
   ]
  },
  {
   "cell_type": "markdown",
   "metadata": {},
   "source": [
    "14) Extraer el úlimo elemento de la lista, guardarlo en una variable e imprimirlo"
   ]
  },
  {
   "cell_type": "code",
   "execution_count": 35,
   "metadata": {},
   "outputs": [
    {
     "data": {
      "text/plain": [
       "'santa_marta'"
      ]
     },
     "execution_count": 35,
     "metadata": {},
     "output_type": "execute_result"
    }
   ],
   "source": [
    "ciudades\n",
    "ultimo_elemento = ciudades[-1]\n",
    "ultimo_elemento"
   ]
  },
  {
   "cell_type": "markdown",
   "metadata": {},
   "source": [
    "15) Mostrar la lista multiplicada por 4"
   ]
  },
  {
   "cell_type": "code",
   "execution_count": 36,
   "metadata": {},
   "outputs": [
    {
     "data": {
      "text/plain": [
       "['medellin',\n",
       " 'bogota',\n",
       " 'cali',\n",
       " 'santa_marta',\n",
       " 'medellin',\n",
       " 'bogota',\n",
       " 'cali',\n",
       " 'santa_marta',\n",
       " 'medellin',\n",
       " 'bogota',\n",
       " 'cali',\n",
       " 'santa_marta',\n",
       " 'medellin',\n",
       " 'bogota',\n",
       " 'cali',\n",
       " 'santa_marta']"
      ]
     },
     "execution_count": 36,
     "metadata": {},
     "output_type": "execute_result"
    }
   ],
   "source": [
    "ciudades*4"
   ]
  },
  {
   "cell_type": "markdown",
   "metadata": {},
   "source": [
    "16) Crear una tupla que contenga los números enteros del 1 al 20"
   ]
  },
  {
   "cell_type": "code",
   "execution_count": 45,
   "metadata": {},
   "outputs": [
    {
     "name": "stdout",
     "output_type": "stream",
     "text": [
      "<class 'tuple'>\n",
      "(1, 2, 3, 4, 5, 6, 7, 8, 9, 10, 11, 12, 13, 14, 15, 16, 17, 18, 19, 20)\n"
     ]
    }
   ],
   "source": [
    "mi_tupla = tuple(range(1,21))\n",
    "print(type(mi_tupla))\n",
    "print(mi_tupla)"
   ]
  },
  {
   "cell_type": "markdown",
   "metadata": {},
   "source": [
    "17) Imprimir desde el índice 10 al 15 de la tupla"
   ]
  },
  {
   "cell_type": "code",
   "execution_count": 57,
   "metadata": {},
   "outputs": [
    {
     "data": {
      "text/plain": [
       "(11, 12, 13, 14, 15)"
      ]
     },
     "execution_count": 57,
     "metadata": {},
     "output_type": "execute_result"
    }
   ],
   "source": [
    "mi_tupla[10:15]"
   ]
  },
  {
   "cell_type": "markdown",
   "metadata": {},
   "source": [
    "18) Evaluar si los números 20 y 30 están dentro de la tupla"
   ]
  },
  {
   "cell_type": "code",
   "execution_count": 63,
   "metadata": {},
   "outputs": [
    {
     "name": "stdout",
     "output_type": "stream",
     "text": [
      "20 esta en mi lista\n"
     ]
    }
   ],
   "source": [
    "numeros = [20,30]\n",
    "for i in numeros:\n",
    "    for x in mi_tupla:\n",
    "        if i == x:\n",
    "            print(f'{i} esta en mi lista')\n",
    "        else:\n",
    "            #print(f'{i} NO esta en mi lista')\n",
    "            None\n"
   ]
  },
  {
   "cell_type": "markdown",
   "metadata": {},
   "source": [
    "19) Con la lista creada en el punto 1, validar la existencia del elemento 'París' y si no existe, agregarlo. Utilizar una variable e informar lo sucedido."
   ]
  },
  {
   "cell_type": "code",
   "execution_count": null,
   "metadata": {},
   "outputs": [],
   "source": [
    "ciudades = ['medellin','bogota', 'cali','santa_marta', 'leticia']\n",
    "\n",
    "def esta_pais(pais):\n",
    "    for i in ciudades:\n",
    "        if i == pais:\n",
    "            return True\n",
    "    return False\n",
    "        \n",
    "def agregar_pais(pais):\n",
    "\n",
    "    if esta_pais(pais):\n",
    "           print(f'el pais {pais} ya esta ahi')\n",
    "\n",
    "    else: \n",
    "        print(f\"\"\"el pais o ciudad {pais} no esta ahi\n",
    "              lo agregaremos\"\"\")\n",
    "        ciudades.append(pais)\n",
    "\n",
    "algo = 'mexico'        \n",
    "agregar_pais(algo)\n",
    "\n",
    "print(ciudades)"
   ]
  },
  {
   "cell_type": "markdown",
   "metadata": {},
   "source": [
    "20) Mostrar la cantidad de veces que se encuentra un elemento específico dentro de la tupla y de la lista"
   ]
  },
  {
   "cell_type": "code",
   "execution_count": null,
   "metadata": {},
   "outputs": [
    {
     "name": "stdout",
     "output_type": "stream",
     "text": [
      "1\n",
      "1\n",
      "1\n",
      "1\n",
      "542998695\n",
      "542998695\n",
      "542998695\n",
      "542998695\n",
      "542998695\n",
      "542998695\n",
      "542998695\n",
      "542998695\n",
      "542998695\n",
      "542998695\n",
      "542998695\n",
      "542998695\n",
      "542998695\n",
      "542998695\n",
      "542998695\n",
      "542998695\n",
      "542998695\n",
      "542998695\n",
      "542998695\n",
      "542998695\n",
      "542998695\n",
      "542998695\n",
      "542998695\n",
      "542998695\n",
      "542998695\n",
      "542998695\n",
      "542998695\n",
      "542998695\n",
      "542998695\n",
      "542998695\n",
      "542998695\n",
      "542998695\n",
      "542998695\n",
      "542998695\n",
      "542998695\n",
      "542998695\n",
      "542998695\n",
      "542998695\n",
      "542998695\n",
      "542998695\n",
      "542998695\n",
      "542998695\n",
      "542998695\n",
      "542998695\n",
      "542998695\n",
      "542998695\n",
      "542998695\n",
      "542998695\n",
      "542998695\n",
      "542998695\n",
      "542998695\n",
      "542998695\n",
      "542998695\n",
      "542998695\n",
      "542998695\n",
      "542998695\n",
      "542998695\n",
      "542998695\n",
      "542998695\n",
      "542998695\n",
      "542998695\n",
      "542998695\n",
      "542998695\n",
      "542998695\n",
      "542998695\n",
      "542998695\n",
      "542998695\n",
      "542998695\n",
      "542998695\n",
      "542998695\n",
      "542998695\n",
      "542998695\n",
      "542998695\n",
      "542998695\n",
      "542998695\n",
      "542998695\n",
      "542998695\n",
      "542998695\n",
      "542998695\n",
      "542998695\n",
      "542998695\n",
      "542998695\n",
      "542998695\n",
      "542998695\n",
      "542998695\n",
      "542998695\n",
      "542998695\n",
      "542998695\n",
      "542998695\n",
      "542998695\n",
      "542998695\n",
      "542998695\n",
      "542998695\n",
      "542998695\n",
      "542998695\n",
      "542998695\n",
      "542998695\n",
      "542998695\n",
      "542998695\n",
      "542998695\n",
      "542998695\n",
      "542998695\n",
      "542998695\n",
      "542998695\n",
      "542998695\n",
      "542998695\n"
     ]
    }
   ],
   "source": [
    "\n",
    "ciudades = ['medellin','medellin','bogota', 'cali','santa_marta', 'leticia', 'medellin']\n",
    "\n",
    "\n",
    "\n",
    "def veces_aparece(buscar):\n",
    "    veces = 0 \n",
    "\n",
    "    buscar = buscar.lower()\n",
    "    for i in ciudades:\n",
    "        if i == buscar:\n",
    "            veces += 1\n",
    "    \n",
    "    print(f'el pais {buscar} apareece, {veces} veces')\n",
    "\n",
    "veces_aparece('medellin')"
   ]
  },
  {
   "cell_type": "markdown",
   "metadata": {},
   "source": [
    "21) Convertir la tupla en una lista"
   ]
  },
  {
   "cell_type": "code",
   "execution_count": null,
   "metadata": {},
   "outputs": [],
   "source": [
    "mi_tupla = (1,2,3,4,56,4)\n",
    "print(type(mi_tupla))\n",
    "\n",
    "print('---------')\n",
    "\n",
    "mi_tupla = list(mi_tupla)\n",
    "print(type(mi_tupla))"
   ]
  },
  {
   "cell_type": "markdown",
   "metadata": {},
   "source": [
    "22) Desempaquetar solo los primeros 3 elementos de la tupla en 3 variables"
   ]
  },
  {
   "cell_type": "code",
   "execution_count": null,
   "metadata": {},
   "outputs": [],
   "source": [
    "tupla = (1, 2, 3, 4, 5, 6)\n",
    "\n",
    "variable1, variable2, variable3, *otros = tupla\n",
    "\n",
    "print(variable1)  # 1\n",
    "print(variable2)  # 2\n",
    "print(variable3) "
   ]
  },
  {
   "cell_type": "markdown",
   "metadata": {},
   "source": [
    "23) Crear un diccionario utilizando la lista crada en el punto 1, asignandole la clave \"ciudad\". Agregar tambien otras claves, como puede ser \"Pais\" y \"Continente\"."
   ]
  },
  {
   "cell_type": "code",
   "execution_count": null,
   "metadata": {},
   "outputs": [],
   "source": [
    "diccionario_info = {\n",
    "    'pais' : ['colombia', 'peru', 'indonesia'],\n",
    "    'ciudad' : ['medellin','lima','bali'],\n",
    "    'continente' : ['america_sur','america_sur','oriente']\n",
    "}\n",
    "\n",
    "type(diccionario_info)\n",
    "\n",
    "print(diccionario_info.values())"
   ]
  },
  {
   "cell_type": "markdown",
   "metadata": {},
   "source": [
    "24) Imprimir las claves del diccionario"
   ]
  },
  {
   "cell_type": "code",
   "execution_count": null,
   "metadata": {},
   "outputs": [],
   "source": [
    "print(diccionario_info.values())"
   ]
  },
  {
   "cell_type": "markdown",
   "metadata": {},
   "source": [
    "25) Imprimir las ciudades a través de su clave"
   ]
  },
  {
   "cell_type": "code",
   "execution_count": null,
   "metadata": {},
   "outputs": [],
   "source": [
    "print(diccionario_info['ciudad'])"
   ]
  }
 ],
 "metadata": {
  "interpreter": {
   "hash": "c85384e4cb51c8b72350f3a8712cc8351fdc3955e32a27f9b60c6242ab125f01"
  },
  "kernelspec": {
   "display_name": "Python 3 (ipykernel)",
   "language": "python",
   "name": "python3"
  },
  "language_info": {
   "codemirror_mode": {
    "name": "ipython",
    "version": 3
   },
   "file_extension": ".py",
   "mimetype": "text/x-python",
   "name": "python",
   "nbconvert_exporter": "python",
   "pygments_lexer": "ipython3",
   "version": "3.9.12"
  }
 },
 "nbformat": 4,
 "nbformat_minor": 4
}
