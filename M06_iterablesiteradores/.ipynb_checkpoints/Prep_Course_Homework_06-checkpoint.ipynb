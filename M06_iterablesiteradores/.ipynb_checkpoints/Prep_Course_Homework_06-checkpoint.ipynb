{
 "cells": [
  {
   "cell_type": "markdown",
   "metadata": {},
   "source": [
    "## Iteradores e iterables"
   ]
  },
  {
   "cell_type": "markdown",
   "metadata": {},
   "source": [
    "1) A partir de una lista vacía, utilizar un ciclo while para cargar allí números negativos del -15 al -1"
   ]
  },
  {
   "cell_type": "code",
   "execution_count": 2,
   "metadata": {},
   "outputs": [
    {
     "name": "stdout",
     "output_type": "stream",
     "text": [
      "[-15, -14, -13, -12, -11, -10, -9, -8, -7, -6, -5, -4, -3, -2, -1]\n"
     ]
    }
   ],
   "source": [
    "lista = []\n",
    "\n",
    "stop = -15\n",
    "\n",
    "while stop < 0:\n",
    "    lista.append(stop)\n",
    "    stop += 1\n",
    "    \n",
    "print(lista)"
   ]
  },
  {
   "cell_type": "markdown",
   "metadata": {},
   "source": [
    "2) ¿Con un ciclo while sería posible recorrer la lista para imprimir sólo los números pares?"
   ]
  },
  {
   "cell_type": "code",
   "execution_count": 5,
   "metadata": {},
   "outputs": [
    {
     "name": "stdout",
     "output_type": "stream",
     "text": [
      "[-14, -12, -10, -8, -6, -4, -2]\n"
     ]
    }
   ],
   "source": [
    "lista_pares = []\n",
    "\n",
    "stop = 0\n",
    "\n",
    "while stop < len(lista):\n",
    "    \n",
    "    if lista[stop] % 2 == 0:\n",
    "        lista_pares.append(lista[stop])\n",
    "    stop += 1\n",
    "    \n",
    "print(lista_pares)"
   ]
  },
  {
   "cell_type": "markdown",
   "metadata": {},
   "source": [
    "3) Resolver el punto anterior sin utilizar un ciclo while"
   ]
  },
  {
   "cell_type": "code",
   "execution_count": 7,
   "metadata": {},
   "outputs": [
    {
     "name": "stdout",
     "output_type": "stream",
     "text": [
      "[-14, -12, -10, -8, -6, -4, -2]\n"
     ]
    }
   ],
   "source": [
    "lista_pares = []\n",
    "for i in lista:\n",
    "    if i % 2 == 0:\n",
    "        lista_pares.append(i)\n",
    " \n",
    "print(lista_pares)"
   ]
  },
  {
   "cell_type": "markdown",
   "metadata": {},
   "source": [
    "4) Utilizar el iterable para recorrer sólo los primeros 3 elementos"
   ]
  },
  {
   "cell_type": "code",
   "execution_count": 13,
   "metadata": {},
   "outputs": [
    {
     "name": "stdout",
     "output_type": "stream",
     "text": [
      "-15\n",
      "-14\n",
      "-13\n"
     ]
    }
   ],
   "source": [
    "stop = 2\n",
    "\n",
    "for i in lista:\n",
    "    print(i)\n",
    "    if lista.index(i) == stop:\n",
    "        break"
   ]
  },
  {
   "cell_type": "code",
   "execution_count": 15,
   "metadata": {},
   "outputs": [
    {
     "name": "stdout",
     "output_type": "stream",
     "text": [
      "-15\n",
      "-14\n",
      "-13\n"
     ]
    }
   ],
   "source": [
    "stop = 0\n",
    "\n",
    "while stop <= 2:\n",
    "    print(lista[stop])\n",
    "    stop += 1"
   ]
  },
  {
   "cell_type": "markdown",
   "metadata": {},
   "source": [
    "5) Utilizar la función **enumerate** para obtener dentro del iterable, tambien el índice al que corresponde el elemento"
   ]
  },
  {
   "cell_type": "code",
   "execution_count": 18,
   "metadata": {},
   "outputs": [
    {
     "name": "stdout",
     "output_type": "stream",
     "text": [
      "indice: 0 y valor: -15\n",
      "indice: 1 y valor: -14\n",
      "indice: 2 y valor: -13\n",
      "indice: 3 y valor: -12\n",
      "indice: 4 y valor: -11\n",
      "indice: 5 y valor: -10\n",
      "indice: 6 y valor: -9\n",
      "indice: 7 y valor: -8\n",
      "indice: 8 y valor: -7\n",
      "indice: 9 y valor: -6\n",
      "indice: 10 y valor: -5\n",
      "indice: 11 y valor: -4\n",
      "indice: 12 y valor: -3\n",
      "indice: 13 y valor: -2\n",
      "indice: 14 y valor: -1\n"
     ]
    }
   ],
   "source": [
    "for i,j in enumerate(lista):\n",
    "    print(f'indice: {i} y valor: {j}')"
   ]
  },
  {
   "cell_type": "markdown",
   "metadata": {},
   "source": [
    "6) Dada la siguiente lista de números enteros entre 1 y 20, crear un ciclo donde se completen los valores faltantes: lista = [1,2,5,7,8,10,13,14,15,17,20]"
   ]
  },
  {
   "cell_type": "code",
   "execution_count": null,
   "metadata": {},
   "outputs": [],
   "source": []
  },
  {
   "cell_type": "code",
   "execution_count": 29,
   "metadata": {},
   "outputs": [
    {
     "name": "stdout",
     "output_type": "stream",
     "text": [
      "[1, 2, 3, 4, 5, 6, 7, 8, 9, 10, 11, 12, 13, 14, 15, 16, 17, 18, 19, 20]\n"
     ]
    }
   ],
   "source": [
    "lista = [1,2,5,7,8,10,13,14,15,17,20]\n",
    "\n",
    "\n",
    "def completar(lista):\n",
    "    \n",
    "    lista_completa = []\n",
    "\n",
    "    for i in range(1,21):\n",
    "        if i in lista:\n",
    "            lista_completa.append(i)\n",
    "        else:\n",
    "            lista_completa.append(i)\n",
    "\n",
    "    return lista_completa\n",
    "\n",
    "x = completar(lista)\n",
    "print(x)"
   ]
  },
  {
   "cell_type": "markdown",
   "metadata": {},
   "source": [
    "7) La sucesión de Fibonacci es un listado de números que sigue la fórmula: <br>\n",
    "n<sub>0</sub> = 0<br>\n",
    "n<sub>1</sub> = 1<br>\n",
    "n<sub>i</sub> = n<sub>i-1</sub> + n<sub>i-2</sub><br>\n",
    "Crear una lista con los primeros treinta números de la sucesión.<br>"
   ]
  },
  {
   "cell_type": "code",
   "execution_count": 42,
   "metadata": {},
   "outputs": [
    {
     "name": "stdout",
     "output_type": "stream",
     "text": [
      "832040\n"
     ]
    }
   ],
   "source": [
    "fibo = 30\n",
    "\n",
    "previo = 0\n",
    "actual = 1\n",
    "\n",
    "lista_fibo = []\n",
    "\n",
    "for _ in range(1,fibo):\n",
    "    siguiente = previo + actual\n",
    "    previo = actual\n",
    "    actual = siguiente\n",
    "    lista_fibo.append(actual)\n",
    "\n",
    "print(actual)"
   ]
  },
  {
   "cell_type": "markdown",
   "metadata": {},
   "source": [
    "8) Realizar la suma de todos elementos de la lista del punto anterior"
   ]
  },
  {
   "cell_type": "code",
   "execution_count": 44,
   "metadata": {},
   "outputs": [
    {
     "data": {
      "text/plain": [
       "2178307"
      ]
     },
     "execution_count": 44,
     "metadata": {},
     "output_type": "execute_result"
    }
   ],
   "source": [
    "lista_fibo\n",
    "\n",
    "suma_total = 0\n",
    "\n",
    "for i in lista_fibo:\n",
    "    suma_total += i\n",
    "    \n",
    "suma_total"
   ]
  },
  {
   "cell_type": "code",
   "execution_count": 48,
   "metadata": {},
   "outputs": [
    {
     "data": {
      "text/plain": [
       "0    2178307\n",
       "dtype: int64"
      ]
     },
     "execution_count": 48,
     "metadata": {},
     "output_type": "execute_result"
    }
   ],
   "source": [
    "import pandas as pd\n",
    "fibo_df = pd.DataFrame(lista_fibo)\n",
    "\n",
    "fibo_df.sum()"
   ]
  },
  {
   "cell_type": "markdown",
   "metadata": {},
   "source": [
    "9) La proporción aurea se expresa con una proporción matemática que nace el número irracional Phi= 1,618… que los griegos llamaron número áureo. El cuál se puede aproximar con la sucesión de Fibonacci. Con la lista del ejercicio anterior, imprimir el cociente de los últimos 5 pares de dos números contiguos:<br>\n",
    "Donde i es la cantidad total de elementos<br>\n",
    "n<sub>i-1</sub> / n<sub>i</sub><br>\n",
    "n<sub>i-2</sub> / n<sub>i-1</sub><br>\n",
    "n<sub>i-3</sub> / n<sub>i-2</sub><br>\n",
    "n<sub>i-4</sub> / n<sub>i-3</sub><br>\n",
    "n<sub>i-5</sub> / n<sub>i-4</sub><br>\n",
    " "
   ]
  },
  {
   "cell_type": "code",
   "execution_count": 49,
   "metadata": {},
   "outputs": [
    {
     "data": {
      "text/plain": [
       "[121393, 196418, 317811, 514229, 832040]"
      ]
     },
     "execution_count": 49,
     "metadata": {},
     "output_type": "execute_result"
    }
   ],
   "source": [
    "lista_fibo\n",
    "\n",
    "ultimos_lista = lista_fibo[-5:]\n",
    "ultimos_lista"
   ]
  },
  {
   "cell_type": "code",
   "execution_count": 58,
   "metadata": {},
   "outputs": [
    {
     "name": "stdout",
     "output_type": "stream",
     "text": [
      "196418 / 121393\n",
      "317811 / 196418\n",
      "514229 / 317811\n",
      "832040 / 514229\n"
     ]
    },
    {
     "data": {
      "text/plain": [
       "[1.6180339887802426, 1.618033988738303, 1.6180339887543225, 1.6180339887482036]"
      ]
     },
     "execution_count": 58,
     "metadata": {},
     "output_type": "execute_result"
    }
   ],
   "source": [
    "resultado = []\n",
    "for i in range(len(ultimos_lista)-1):\n",
    "    cociente = ultimos_lista[i+1] / ultimos_lista[i]\n",
    "    \n",
    "    print(f'{ultimos_lista[i+1]} / {ultimos_lista[i]}')\n",
    "    resultado.append(cociente)\n",
    "    \n",
    "resultado"
   ]
  },
  {
   "cell_type": "markdown",
   "metadata": {},
   "source": [
    "10) A partir de la variable cadena ya dada, mostrar en qué posiciones aparece la letra \"n\"<br>\n",
    "cadena = 'Hola Mundo. Esto es una practica del lenguaje de programación Python'"
   ]
  },
  {
   "cell_type": "code",
   "execution_count": 69,
   "metadata": {},
   "outputs": [
    {
     "data": {
      "text/plain": [
       "[7, 21, 39, 60, 67]"
      ]
     },
     "execution_count": 69,
     "metadata": {},
     "output_type": "execute_result"
    }
   ],
   "source": [
    "cadena = 'Hola Mundo. Esto es una practica del lenguaje de programación Python'\n",
    "\n",
    "n_indices = []\n",
    "\n",
    "for i in range(len(cadena)):\n",
    "    if cadena[i] == 'n':\n",
    "        n_indices.append(i)\n",
    "n_indices"
   ]
  },
  {
   "cell_type": "markdown",
   "metadata": {},
   "source": [
    "11) Crear un diccionario e imprimir sus claves utilizando un iterador"
   ]
  },
  {
   "cell_type": "code",
   "execution_count": null,
   "metadata": {},
   "outputs": [],
   "source": []
  },
  {
   "cell_type": "markdown",
   "metadata": {},
   "source": [
    "12) Convertir en una lista la variable \"cadena\" del punto 10 y luego recorrerla con un iterador "
   ]
  },
  {
   "cell_type": "code",
   "execution_count": 71,
   "metadata": {},
   "outputs": [
    {
     "data": {
      "text/plain": [
       "['H',\n",
       " 'o',\n",
       " 'l',\n",
       " 'a',\n",
       " ' ',\n",
       " 'M',\n",
       " 'u',\n",
       " 'n',\n",
       " 'd',\n",
       " 'o',\n",
       " '.',\n",
       " ' ',\n",
       " 'E',\n",
       " 's',\n",
       " 't',\n",
       " 'o',\n",
       " ' ',\n",
       " 'e',\n",
       " 's',\n",
       " ' ',\n",
       " 'u',\n",
       " 'n',\n",
       " 'a',\n",
       " ' ',\n",
       " 'p',\n",
       " 'r',\n",
       " 'a',\n",
       " 'c',\n",
       " 't',\n",
       " 'i',\n",
       " 'c',\n",
       " 'a',\n",
       " ' ',\n",
       " 'd',\n",
       " 'e',\n",
       " 'l',\n",
       " ' ',\n",
       " 'l',\n",
       " 'e',\n",
       " 'n',\n",
       " 'g',\n",
       " 'u',\n",
       " 'a',\n",
       " 'j',\n",
       " 'e',\n",
       " ' ',\n",
       " 'd',\n",
       " 'e',\n",
       " ' ',\n",
       " 'p',\n",
       " 'r',\n",
       " 'o',\n",
       " 'g',\n",
       " 'r',\n",
       " 'a',\n",
       " 'm',\n",
       " 'a',\n",
       " 'c',\n",
       " 'i',\n",
       " 'ó',\n",
       " 'n',\n",
       " ' ',\n",
       " 'P',\n",
       " 'y',\n",
       " 't',\n",
       " 'h',\n",
       " 'o',\n",
       " 'n']"
      ]
     },
     "execution_count": 71,
     "metadata": {},
     "output_type": "execute_result"
    }
   ],
   "source": [
    "lista_cadena = [i for i in cadena]\n",
    "lista_cadena"
   ]
  },
  {
   "cell_type": "markdown",
   "metadata": {},
   "source": [
    "13) Crear dos listas y unirlas en una tupla utilizando la función zip"
   ]
  },
  {
   "cell_type": "code",
   "execution_count": 78,
   "metadata": {},
   "outputs": [
    {
     "data": {
      "text/plain": [
       "((1, 'a'), (2, 'b'), (3, 'c'), (4, 'd'), (5, 'e'))"
      ]
     },
     "execution_count": 78,
     "metadata": {},
     "output_type": "execute_result"
    }
   ],
   "source": [
    "lista_1 = [1,2,3,4,5]\n",
    "lista_2 = ['a','b','c','d','e']\n",
    "\n",
    "mi_tupla = tuple(zip(lista_1,lista_2))\n",
    "mi_tupla"
   ]
  },
  {
   "cell_type": "markdown",
   "metadata": {},
   "source": [
    "14) A partir de la siguiente lista de números, crear una nueva sólo si el número es divisible por 7<br>\n",
    "lis = [18,21,29,32,35,42,56,60,63,71,84,90,91,100]"
   ]
  },
  {
   "cell_type": "code",
   "execution_count": 83,
   "metadata": {},
   "outputs": [
    {
     "data": {
      "text/plain": [
       "[21, 35, 42, 56, 63, 84, 91]"
      ]
     },
     "execution_count": 83,
     "metadata": {},
     "output_type": "execute_result"
    }
   ],
   "source": [
    "lis = [18,21,29,32,35,42,56,60,63,71,84,90,91,100]\n",
    "\n",
    "division_7 = []\n",
    "\n",
    "for i in lis:\n",
    "    if i % 7 == 0:\n",
    "        division_7.append(i)\n",
    "        \n",
    "division_7\n",
    "        "
   ]
  },
  {
   "cell_type": "markdown",
   "metadata": {},
   "source": [
    "15) A partir de la lista de a continuación, contar la cantidad total de elementos que contiene, teniendo en cuenta que un elemento de la lista podría ser otra lista:<br>\n",
    "lis = [[1,2,3,4],'rojo','verde',[True,False,False],['uno','dos','tres']]"
   ]
  },
  {
   "cell_type": "code",
   "execution_count": 87,
   "metadata": {},
   "outputs": [
    {
     "name": "stdout",
     "output_type": "stream",
     "text": [
      "12\n"
     ]
    }
   ],
   "source": [
    "lis = [[1,2,3,4],'rojo','verde',[True,False,False],['uno','dos','tres']]\n",
    "\n",
    "def contar_elementos(lista):\n",
    "    count = 0\n",
    "    for elemento in lista:\n",
    "        if isinstance(elemento, list):\n",
    "            count += contar_elementos(elemento)\n",
    "        else:\n",
    "            count += 1\n",
    "    return count\n",
    "\n",
    "cantidad_total = contar_elementos(lis)\n",
    "print(cantidad_total)"
   ]
  },
  {
   "cell_type": "markdown",
   "metadata": {},
   "source": [
    "16) Tomar la lista del punto anterior y convertir cada elemento en una lista si no lo es"
   ]
  },
  {
   "cell_type": "code",
   "execution_count": 90,
   "metadata": {},
   "outputs": [
    {
     "name": "stdout",
     "output_type": "stream",
     "text": [
      "[1, 2, 3, 4, 5, 6, 7, 8, 9, 10, 11]\n"
     ]
    }
   ],
   "source": [
    "def desanidar_lista(lista):\n",
    "    if isinstance(lista, list):\n",
    "        if any(isinstance(elemento, list) for elemento in lista):\n",
    "            lista_desanidada = []\n",
    "            for elemento in lista:\n",
    "                if isinstance(elemento, list):\n",
    "                    lista_desanidada.extend(desanidar_lista(elemento))\n",
    "                else:\n",
    "                    lista_desanidada.append(elemento)\n",
    "            return lista_desanidada\n",
    "        else:\n",
    "            return lista\n",
    "    else:\n",
    "        return lista\n",
    "\n",
    "\n",
    "# Ejemplo de uso:\n",
    "lista_anidada = [[1, 2, 3], [4, 5, [6, 7]], 8, [9, [10, 11]]]\n",
    "lista_desanidada = desanidar_lista(lista_anidada)\n",
    "print(lista_desanidada)"
   ]
  },
  {
   "cell_type": "code",
   "execution_count": 89,
   "metadata": {},
   "outputs": [
    {
     "ename": "TypeError",
     "evalue": "'int' object is not iterable",
     "output_type": "error",
     "traceback": [
      "\u001b[0;31m---------------------------------------------------------------------------\u001b[0m",
      "\u001b[0;31mTypeError\u001b[0m                                 Traceback (most recent call last)",
      "Input \u001b[0;32mIn [89]\u001b[0m, in \u001b[0;36m<cell line: 1>\u001b[0;34m()\u001b[0m\n\u001b[0;32m----> 1\u001b[0m \u001b[43mexpandir_lista\u001b[49m\u001b[43m(\u001b[49m\u001b[43mlista\u001b[49m\u001b[43m)\u001b[49m\n",
      "Input \u001b[0;32mIn [88]\u001b[0m, in \u001b[0;36mexpandir_lista\u001b[0;34m(lista)\u001b[0m\n\u001b[1;32m      5\u001b[0m         lista_expand\u001b[38;5;241m.\u001b[39mextend(elemento)\n\u001b[1;32m      6\u001b[0m     \u001b[38;5;28;01melse\u001b[39;00m:\n\u001b[0;32m----> 7\u001b[0m         \u001b[43mlista_expand\u001b[49m\u001b[38;5;241;43m.\u001b[39;49m\u001b[43mextend\u001b[49m\u001b[43m(\u001b[49m\u001b[43melemento\u001b[49m\u001b[43m)\u001b[49m\n\u001b[1;32m      8\u001b[0m \u001b[38;5;28;01mreturn\u001b[39;00m lista_expand\n",
      "\u001b[0;31mTypeError\u001b[0m: 'int' object is not iterable"
     ]
    }
   ],
   "source": [
    " expandir_lista(lista)"
   ]
  },
  {
   "cell_type": "code",
   "execution_count": null,
   "metadata": {},
   "outputs": [],
   "source": []
  }
 ],
 "metadata": {
  "interpreter": {
   "hash": "c85384e4cb51c8b72350f3a8712cc8351fdc3955e32a27f9b60c6242ab125f01"
  },
  "kernelspec": {
   "display_name": "Python 3 (ipykernel)",
   "language": "python",
   "name": "python3"
  },
  "language_info": {
   "codemirror_mode": {
    "name": "ipython",
    "version": 3
   },
   "file_extension": ".py",
   "mimetype": "text/x-python",
   "name": "python",
   "nbconvert_exporter": "python",
   "pygments_lexer": "ipython3",
   "version": "3.9.12"
  }
 },
 "nbformat": 4,
 "nbformat_minor": 4
}
