{
 "cells": [
  {
   "cell_type": "markdown",
   "metadata": {},
   "source": [
    "## Funciones"
   ]
  },
  {
   "cell_type": "code",
   "execution_count": null,
   "metadata": {},
   "outputs": [],
   "source": []
  },
  {
   "cell_type": "code",
   "execution_count": null,
   "metadata": {},
   "outputs": [],
   "source": []
  },
  {
   "cell_type": "code",
   "execution_count": null,
   "metadata": {},
   "outputs": [],
   "source": []
  },
  {
   "cell_type": "code",
   "execution_count": null,
   "metadata": {},
   "outputs": [],
   "source": []
  },
  {
   "cell_type": "code",
   "execution_count": null,
   "metadata": {},
   "outputs": [],
   "source": []
  },
  {
   "cell_type": "code",
   "execution_count": null,
   "metadata": {},
   "outputs": [],
   "source": []
  },
  {
   "cell_type": "code",
   "execution_count": null,
   "metadata": {},
   "outputs": [],
   "source": []
  },
  {
   "cell_type": "code",
   "execution_count": null,
   "metadata": {},
   "outputs": [],
   "source": []
  },
  {
   "cell_type": "code",
   "execution_count": null,
   "metadata": {},
   "outputs": [],
   "source": []
  },
  {
   "cell_type": "code",
   "execution_count": null,
   "metadata": {},
   "outputs": [],
   "source": []
  },
  {
   "cell_type": "code",
   "execution_count": null,
   "metadata": {},
   "outputs": [],
   "source": []
  },
  {
   "cell_type": "code",
   "execution_count": null,
   "metadata": {},
   "outputs": [],
   "source": []
  },
  {
   "cell_type": "code",
   "execution_count": null,
   "metadata": {},
   "outputs": [],
   "source": []
  },
  {
   "cell_type": "markdown",
   "metadata": {},
   "source": [
    "1) Crear una función que reciba un número como parámetro y devuelva True si es primo y False si no lo es"
   ]
  },
  {
   "cell_type": "code",
   "execution_count": 9,
   "metadata": {},
   "outputs": [
    {
     "data": {
      "text/plain": [
       "True"
      ]
     },
     "execution_count": 9,
     "metadata": {},
     "output_type": "execute_result"
    }
   ],
   "source": [
    "def primo(n):\n",
    "    \n",
    "    if n < 2:\n",
    "        return False\n",
    "    \n",
    "    for i in range(2,n):\n",
    "        if n % i == 0:\n",
    "            return False\n",
    "        \n",
    "    else: return True\n",
    "\n",
    "primo(37)"
   ]
  },
  {
   "cell_type": "code",
   "execution_count": null,
   "metadata": {},
   "outputs": [],
   "source": []
  },
  {
   "cell_type": "markdown",
   "metadata": {},
   "source": [
    "2) Utilizando la función del punto 1, realizar otra función que reciba de parámetro una lista de números y devuelva sólo aquellos que son primos en otra lista"
   ]
  },
  {
   "cell_type": "code",
   "execution_count": 12,
   "metadata": {},
   "outputs": [
    {
     "data": {
      "text/plain": [
       "[2,\n",
       " 3,\n",
       " 5,\n",
       " 7,\n",
       " 11,\n",
       " 13,\n",
       " 17,\n",
       " 19,\n",
       " 23,\n",
       " 29,\n",
       " 31,\n",
       " 37,\n",
       " 41,\n",
       " 43,\n",
       " 47,\n",
       " 53,\n",
       " 59,\n",
       " 61,\n",
       " 67,\n",
       " 71,\n",
       " 73,\n",
       " 79,\n",
       " 83,\n",
       " 89,\n",
       " 97]"
      ]
     },
     "execution_count": 12,
     "metadata": {},
     "output_type": "execute_result"
    }
   ],
   "source": [
    "def lista_primos(lista):\n",
    "    \n",
    "    lista_primos = []\n",
    "    \n",
    "    for i in lista:\n",
    "        if primo(i) == True:\n",
    "            lista_primos.append(i)\n",
    "    \n",
    "    return lista_primos\n",
    "\n",
    "lista = [i for i in range(0,100)]\n",
    "\n",
    "lista_primos(lista)"
   ]
  },
  {
   "cell_type": "markdown",
   "metadata": {},
   "source": [
    "3) Crear una función que al recibir una lista de números, devuelva el que más se repite y cuántas veces lo hace. Si hay más de un \"más repetido\", que devuelva cualquiera"
   ]
  },
  {
   "cell_type": "code",
   "execution_count": 26,
   "metadata": {},
   "outputs": [
    {
     "name": "stdout",
     "output_type": "stream",
     "text": [
      "<built-in method sort of list object at 0x7f8fadd4ec80>\n"
     ]
    }
   ],
   "source": [
    "def repetidos(lista):\n",
    "    \n",
    "    set_lista = set(lista)\n",
    "    \n",
    "    lista_conteo = []\n",
    "    \n",
    "    for i in set_lista:\n",
    "        x = lista.count(i)\n",
    "        lista_conteo.append((i,x))\n",
    "        \n",
    "    return(lista_conteo)\n",
    "        \n",
    "listica = [1,2,31,2,41,24,12,31,2,31,2,12,1,2,12,12,1,2,12,1,2,12,1,2,1,2,12,3,4,2345,3,25,35,23,52,35,0]\n",
    "x = repetidos(listica)\n"
   ]
  },
  {
   "cell_type": "markdown",
   "metadata": {},
   "source": [
    "4) A la función del punto 3, agregar un parámetro más, que permita elegir si se requiere el menor o el mayor de los mas repetidos."
   ]
  },
  {
   "cell_type": "code",
   "execution_count": null,
   "metadata": {},
   "outputs": [],
   "source": []
  },
  {
   "cell_type": "markdown",
   "metadata": {},
   "source": [
    "5) Crear una función que convierta entre grados Celsius, Farenheit y Kelvin<br>\n",
    "Fórmula 1\t: (°C × 9/5) + 32 = °F<br>\n",
    "Fórmula 2\t: °C + 273.15 = °K<br>\n",
    "Debe recibir 3 parámetros: el valor, la medida de orígen y la medida de destino\n"
   ]
  },
  {
   "cell_type": "code",
   "execution_count": 38,
   "metadata": {},
   "outputs": [
    {
     "name": "stdout",
     "output_type": "stream",
     "text": [
      "de celsius 100 a kelvin es 373.12\n"
     ]
    }
   ],
   "source": [
    "def convertidor_grados(temperatura,medida,medida_destino):\n",
    "    \n",
    "    \n",
    "    if medida == 'Celsius' and medida_destino == 'Farenheit':\n",
    "        resultado = (temperatura * 9/5) + 32\n",
    "        print(f'de celsius {temperatura} a Farenheit es {resultado}')\n",
    "              \n",
    "    elif medida == 'Celsius' and medida_destino == 'Kelvin':\n",
    "        resultado = (temperatura + 273.12)\n",
    "        print(f'de celsius {temperatura} a kelvin es {resultado}')\n",
    "        \n",
    "    elif medida == 'Kelvin' and medida_destino == 'Celsius':\n",
    "        resultado = (temperatura - 273.12)\n",
    "        print(f'de Kelvin {temperatura} a Celsius es {resultado}')\n",
    "              \n",
    "    elif medida == 'Farenheit' and medida_destino == 'Celsius':\n",
    "        resultado =  (temperatura - 32)/ (9/5 )\n",
    "        print(f'de celsius {temperatura} a Farenheit es {resultado}')\n",
    "              \n",
    "\n",
    "convertidor_grados(100,'Celsius','Kelvin')"
   ]
  },
  {
   "cell_type": "markdown",
   "metadata": {},
   "source": [
    "6) Iterando una lista con los tres valores posibles de temperatura que recibe la función del punto 5, hacer un print para cada combinación de los mismos:"
   ]
  },
  {
   "cell_type": "code",
   "execution_count": 41,
   "metadata": {},
   "outputs": [
    {
     "name": "stdout",
     "output_type": "stream",
     "text": [
      "de celsius 23 a Farenheit es 73.4\n",
      "de celsius 23 a Farenheit es 73.4\n",
      "de celsius 24 a Farenheit es -4.444444444444445\n"
     ]
    }
   ],
   "source": [
    "def iterador_temperatura(lista):\n",
    "    \n",
    "    for t,m,md in lista:\n",
    "        convertidor_grados(t,m,md)\n",
    "        \n",
    "lista_1 = [23,'Celsius','Farenheit']\n",
    "lista_2 = [24,'Farenheit','Celsius']\n",
    "\n",
    "iterador_temperatura([lista_1])\n",
    "\n",
    "lista_completa = [lista_1,lista_2]\n",
    "\n",
    "iterador_temperatura(lista_completa)"
   ]
  },
  {
   "cell_type": "markdown",
   "metadata": {},
   "source": [
    "7) Armar una función que devuelva el factorial de un número. Tener en cuenta que el usuario puede equivocarse y enviar de parámetro un número no entero o negativo"
   ]
  },
  {
   "cell_type": "code",
   "execution_count": 45,
   "metadata": {},
   "outputs": [
    {
     "data": {
      "text/plain": [
       "[20,\n",
       " 380,\n",
       " 6840,\n",
       " 116280,\n",
       " 1860480,\n",
       " 27907200,\n",
       " 390700800,\n",
       " 5079110400,\n",
       " 60949324800,\n",
       " 670442572800,\n",
       " 6704425728000,\n",
       " 60339831552000,\n",
       " 482718652416000,\n",
       " 3379030566912000,\n",
       " 20274183401472000,\n",
       " 101370917007360000,\n",
       " 405483668029440000,\n",
       " 1216451004088320000,\n",
       " 2432902008176640000,\n",
       " 2432902008176640000]"
      ]
     },
     "execution_count": 45,
     "metadata": {},
     "output_type": "execute_result"
    }
   ],
   "source": [
    "def factoriales(numero):\n",
    "    \n",
    "    numero = numero\n",
    "    lista_factorial=[]\n",
    "    factorial = 1\n",
    "    \n",
    "    if numero < 0:\n",
    "        print('el factorial no es para numeros negativos')\n",
    "        return None\n",
    "    elif type(numero) == float:\n",
    "        print('el factorail no cae con los decimales')\n",
    "        return(None)\n",
    "    \n",
    "    while numero > 0:\n",
    "        factorial *= numero\n",
    "        lista_factorial.append(factorial)\n",
    "        numero -= 1\n",
    "        \n",
    "    return lista_factorial\n",
    "\n",
    "factoriales(20)"
   ]
  },
  {
   "cell_type": "code",
   "execution_count": 53,
   "metadata": {},
   "outputs": [
    {
     "data": {
      "text/plain": [
       "[1, 2, 6, 24, 120, 720, 5040, 40320, 362880, 3628800]"
      ]
     },
     "execution_count": 53,
     "metadata": {},
     "output_type": "execute_result"
    }
   ],
   "source": [
    "def factorial(numero):\n",
    "    factorial = 1\n",
    "    \n",
    "    for i in range(1,numero+1):\n",
    "        factorial = factorial * i\n",
    "    return(factorial)\n",
    "\n",
    "def lista_factorial(numero):\n",
    "    factorial = 1\n",
    "    \n",
    "    lista_factorial = []\n",
    "    \n",
    "    for i in range(1,numero+1):\n",
    "        factorial = factorial * i\n",
    "        lista_factorial.append(factorial)\n",
    "        \n",
    "    return(lista_factorial)\n",
    "factorial(5)\n",
    "lista_factorial(10)"
   ]
  },
  {
   "cell_type": "code",
   "execution_count": null,
   "metadata": {},
   "outputs": [],
   "source": []
  }
 ],
 "metadata": {
  "interpreter": {
   "hash": "c85384e4cb51c8b72350f3a8712cc8351fdc3955e32a27f9b60c6242ab125f01"
  },
  "kernelspec": {
   "display_name": "Python 3 (ipykernel)",
   "language": "python",
   "name": "python3"
  },
  "language_info": {
   "codemirror_mode": {
    "name": "ipython",
    "version": 3
   },
   "file_extension": ".py",
   "mimetype": "text/x-python",
   "name": "python",
   "nbconvert_exporter": "python",
   "pygments_lexer": "ipython3",
   "version": "3.9.12"
  }
 },
 "nbformat": 4,
 "nbformat_minor": 4
}
